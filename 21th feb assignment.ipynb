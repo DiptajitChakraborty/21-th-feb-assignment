{
 "cells": [
  {
   "cell_type": "code",
   "execution_count": 1,
   "id": "fb1daf0b-8ecb-409e-bf0d-60e22477a6f0",
   "metadata": {},
   "outputs": [],
   "source": [
    "#Q1\n",
    "#Ans:Web scraping refers to the extraction of data from a website. This information is collected and then exported into a format that is more useful for the user. Be it a spreadsheet or an API.\n",
    "\n",
    "#Web scrapping is used to watch the possible market trends\n",
    "# it helps to keep a watch on your competitors , maintaining the brand identity.\n",
    "# It helps to know the targeted audience and the tracking trends.\n",
    "# The most important thing is it helps to improvise better solution.\n",
    "\n",
    "#The major three areas are 1.Price monitoring ,2.Monitoring customer reviws , 3. financial data aggrefation"
   ]
  },
  {
   "cell_type": "code",
   "execution_count": 3,
   "id": "ab44a0fd-e9e1-4251-9b5d-db3d2c3eef67",
   "metadata": {},
   "outputs": [],
   "source": [
    "#Q2\n",
    "#Ans:The methods for web scrappings are :\n",
    "# Human copy-and-paste. The simplest form of web scraping is manually copying and pasting data from a web page into a text file or spreadsheet. \n",
    "# Text pattern matching. \n",
    "# HTTP programming. \n",
    "# HTML parsing.\n",
    "# DOM parsing. \n",
    "# Vertical aggregation. \n",
    "# Semantic annotation recognizing. \n",
    "# Computer vision web-page analysis."
   ]
  },
  {
   "cell_type": "code",
   "execution_count": 4,
   "id": "1ff98e4a-8b19-4c8f-8a4c-46723481089a",
   "metadata": {},
   "outputs": [],
   "source": [
    "#Q3\n",
    "#Ans:\n",
    "# Beautiful Soup is a Python library for getting data out of HTML, XML, and other markup languages. \n",
    "\n",
    "#Beautiful Soup is a Python package for parsing HTML and XML documents.It creates a parse tree for parsed pages that can be used to extract data from HTML, which is useful for web scraping.."
   ]
  },
  {
   "cell_type": "code",
   "execution_count": 5,
   "id": "674a7d3e-38c6-4167-a2f0-3a749516068d",
   "metadata": {},
   "outputs": [],
   "source": [
    "#Q4\n",
    "#Ans:Flask is a lightweight framework to build websites. We'll use this to parse our collected data and display it as HTML in a new HTML file. The requests module allows us to send http requests to the website we want to scrape. The first line imports the Flask class and the render_template method from the flask library."
   ]
  },
  {
   "cell_type": "code",
   "execution_count": 8,
   "id": "d1938904-0c79-45d7-a1eb-51c1407a07cd",
   "metadata": {},
   "outputs": [],
   "source": [
    "#Q5\n",
    "#Ans: The names of AWS services used in this project are 1. Code Pipeline and 2.Beanstalk\n",
    "\n",
    "#Use of code pipeline \n",
    "# AWS CodePipeline is a continuous delivery service that enables us to model, visualize, and automate the steps required to release your software.\n",
    "#Use of beanstalk\n",
    "# Beanstalk is a service for deploying and scaling web applications and services. "
   ]
  },
  {
   "cell_type": "code",
   "execution_count": null,
   "id": "97212bba-9ef0-423e-915f-0a18ef021f0d",
   "metadata": {},
   "outputs": [],
   "source": []
  }
 ],
 "metadata": {
  "kernelspec": {
   "display_name": "Python 3 (ipykernel)",
   "language": "python",
   "name": "python3"
  },
  "language_info": {
   "codemirror_mode": {
    "name": "ipython",
    "version": 3
   },
   "file_extension": ".py",
   "mimetype": "text/x-python",
   "name": "python",
   "nbconvert_exporter": "python",
   "pygments_lexer": "ipython3",
   "version": "3.10.8"
  }
 },
 "nbformat": 4,
 "nbformat_minor": 5
}
